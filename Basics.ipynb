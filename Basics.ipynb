{
 "cells": [
  {
   "cell_type": "markdown",
   "metadata": {
    "collapsed": true
   },
   "source": [
    "## Posts with max. user engazement in 'Hacker News Posts'.\n",
    "\n",
    "__Hacker News__ is a site started by the startup incubator Y Combinator, where user-submitted stories (known as \"posts\") receive votes and comments, similar to reddit. _Hacker News_ is extremely popular in _technology_ and _startup circles_, and posts that make it to the top of the Hacker News listings can get hundreds of thousands of visitors as a result.\n",
    "\n",
    "We will work with a dataset of submission to _Hacker News_.\n",
    "\n",
    "__It includes the following columns:__\n",
    "\n",
    ">_title_: title of the post (self explanatory)\n",
    ">\n",
    ">_url_: the url of the item being linked to\n",
    ">\n",
    ">_num_points_: the number of upvotes the post received\n",
    ">\n",
    ">_num_comments_: the number of comments the post received\n",
    ">\n",
    ">_author_: the name of the account that made the post\n",
    ">\n",
    ">_created_at_: the date and time the post was made (the time zone is Eastern Time in the US)\n",
    "\n",
    "We're specifically interested in posts with titles that begin with either _Ask HN_ or _Show HN_. \n",
    "\n",
    "Users submit _Ask HN_ posts to ask the _Hacker News_ community a specific question. Below are a few examples:\n",
    "\n",
    ">Ask HN: How to improve my personal website?\n",
    "Ask HN: Am I the only one outraged by Twitter shutting down share counts?\n",
    "Ask HN: Aby recent changes to CSS that broke mobile?\n",
    "\n",
    "Likewise, users submit _Show HN_ posts to show the _Hacker News_ community a project, product, or just something interesting. Below are a few examples:\n",
    "\n",
    ">Show HN: Wio Link  ESP8266 Based Web of Things Hardware Development Platform'\n",
    "Show HN: Something pointless I made\n",
    "Show HN: Shanhu.io, a programming playground powered by e8vm\n",
    "\n",
    "We'll compare these two types of posts to determine the following:\n",
    "\n",
    " - Do Ask HN or Show HN receive more comments on average?\n",
    " - Do posts created at a certain time receive more comments on average?\n"
   ]
  },
  {
   "cell_type": "code",
   "execution_count": 10,
   "metadata": {},
   "outputs": [
    {
     "name": "stdout",
     "output_type": "stream",
     "text": [
      "[['id', 'title', 'url', 'num_points', 'num_comments', 'author', 'created_at'], ['12224879', 'Interactive Dynamic Video', 'http://www.interactivedynamicvideo.com/', '386', '52', 'ne0phyte', '8/4/2016 11:52'], ['10975351', 'How to Use Open Source and Shut the Fuck Up at the Same Time', 'http://hueniverse.com/2016/01/26/how-to-use-open-source-and-shut-the-fuck-up-at-the-same-time/', '39', '10', 'josep2', '1/26/2016 19:30'], ['11964716', \"Florida DJs May Face Felony for April Fools' Water Joke\", 'http://www.thewire.com/entertainment/2013/04/florida-djs-april-fools-water-joke/63798/', '2', '1', 'vezycash', '6/23/2016 22:20'], ['11919867', 'Technology ventures: From Idea to Enterprise', 'https://www.amazon.com/Technology-Ventures-Enterprise-Thomas-Byers/dp/0073523429', '3', '1', 'hswarna', '6/17/2016 0:01']]\n"
     ]
    }
   ],
   "source": [
    "from csv import reader\n",
    "opened_file = open(\"hacker_news.csv\")\n",
    "read_file = reader(opened_file)\n",
    "hn = list(read_file)\n",
    "\n",
    "print(hn[:5])"
   ]
  },
  {
   "cell_type": "code",
   "execution_count": 11,
   "metadata": {},
   "outputs": [
    {
     "name": "stdout",
     "output_type": "stream",
     "text": [
      "['id', 'title', 'url', 'num_points', 'num_comments', 'author', 'created_at']\n",
      "[['12224879', 'Interactive Dynamic Video', 'http://www.interactivedynamicvideo.com/', '386', '52', 'ne0phyte', '8/4/2016 11:52'], ['10975351', 'How to Use Open Source and Shut the Fuck Up at the Same Time', 'http://hueniverse.com/2016/01/26/how-to-use-open-source-and-shut-the-fuck-up-at-the-same-time/', '39', '10', 'josep2', '1/26/2016 19:30'], ['11964716', \"Florida DJs May Face Felony for April Fools' Water Joke\", 'http://www.thewire.com/entertainment/2013/04/florida-djs-april-fools-water-joke/63798/', '2', '1', 'vezycash', '6/23/2016 22:20'], ['11919867', 'Technology ventures: From Idea to Enterprise', 'https://www.amazon.com/Technology-Ventures-Enterprise-Thomas-Byers/dp/0073523429', '3', '1', 'hswarna', '6/17/2016 0:01'], ['10301696', 'Note by Note: The Making of Steinway L1037 (2007)', 'http://www.nytimes.com/2007/11/07/movies/07stein.html?_r=0', '8', '2', 'walterbell', '9/30/2015 4:12']]\n"
     ]
    }
   ],
   "source": [
    "headers = hn[0]\n",
    "print(headers)\n",
    "hn = hn[1:]\n",
    "print(hn[:5])"
   ]
  },
  {
   "cell_type": "code",
   "execution_count": 12,
   "metadata": {},
   "outputs": [
    {
     "name": "stdout",
     "output_type": "stream",
     "text": [
      "ask_posts no:  1744\n",
      "show_posts no:  1162\n",
      "other_posts no:  17194\n"
     ]
    }
   ],
   "source": [
    "ask_posts = []\n",
    "show_posts = []\n",
    "other_posts = []\n",
    "\n",
    "for row in hn:\n",
    "    title = row[1]\n",
    "    if title.lower().startswith('show hn'):\n",
    "        show_posts.append(row)\n",
    "    elif title.lower().startswith('ask hn'):\n",
    "        ask_posts.append(row)\n",
    "    else:\n",
    "        other_posts.append(row)\n",
    "\n",
    "print(\"ask_posts no: \", len(ask_posts))\n",
    "print(\"show_posts no: \", len(show_posts))\n",
    "print(\"other_posts no: \", len(other_posts))\n",
    "\n"
   ]
  },
  {
   "cell_type": "code",
   "execution_count": 13,
   "metadata": {},
   "outputs": [
    {
     "name": "stdout",
     "output_type": "stream",
     "text": [
      "avg_ask_comments :  14.038417431192661\n"
     ]
    }
   ],
   "source": [
    "total_ask_comments = 0\n",
    "for row in ask_posts:\n",
    "    total_ask_comments += int(row[4])\n",
    "\n",
    "avg_ask_comments = total_ask_comments / len(ask_posts)\n",
    "print(\"avg_ask_comments : \", avg_ask_comments)\n",
    "    "
   ]
  },
  {
   "cell_type": "code",
   "execution_count": 14,
   "metadata": {},
   "outputs": [
    {
     "name": "stdout",
     "output_type": "stream",
     "text": [
      "avg_show_comments :  10.31669535283993\n"
     ]
    }
   ],
   "source": [
    "total_show_comments = 0\n",
    "for row in show_posts:\n",
    "    total_show_comments += int(row[4])\n",
    "    \n",
    "avg_show_comments = total_show_comments / len(show_posts)\n",
    "print(\"avg_show_comments : \", avg_show_comments)"
   ]
  },
  {
   "cell_type": "markdown",
   "metadata": {},
   "source": [
    "#### The average number of comments for 'ask posts' : 14.03\n",
    "#### The average number of comments for 'show posts' : 10.31\n",
    "\n",
    "> #### From above calcualations on the 'Hacker News Posts', we found that 'ask posts' receive more comments on the average than 'show posts'. \n"
   ]
  },
  {
   "cell_type": "code",
   "execution_count": 15,
   "metadata": {},
   "outputs": [
    {
     "name": "stdout",
     "output_type": "stream",
     "text": [
      "{9: 45, 13: 85, 10: 59, 14: 107, 16: 108, 23: 68, 12: 73, 17: 100, 15: 116, 21: 109, 20: 80, 2: 58, 18: 109, 3: 54, 5: 46, 19: 110, 1: 60, 22: 71, 8: 48, 4: 47, 0: 55, 6: 44, 7: 34, 11: 58} length :  24\n",
      "****************************\n",
      "{9: 251, 13: 1253, 10: 793, 14: 1416, 16: 1814, 23: 543, 12: 687, 17: 1146, 15: 4477, 21: 1745, 20: 1722, 2: 1381, 18: 1439, 3: 421, 5: 464, 19: 1188, 1: 683, 22: 479, 8: 492, 4: 337, 0: 447, 6: 397, 7: 267, 11: 641} length :  24\n"
     ]
    }
   ],
   "source": [
    "import datetime as dt\n",
    "result_list = []\n",
    "\n",
    "for row in ask_posts:\n",
    "    created_at_str = row[6]\n",
    "    created_at_dt = dt.datetime.strptime(created_at_str, \"%m/%d/%Y %H:%M\")\n",
    "    #print(created_at_dt)\n",
    "    new_list= []\n",
    "    new_list.append(created_at_dt) # Adding the Post creation date\n",
    "    new_list.append(int(row[4])) # Addng the number of comments\n",
    "    result_list.append(new_list)\n",
    "    #print(result_list)\n",
    "    \n",
    "counts_by_hour = {}\n",
    "comments_by_hour = {}\n",
    "\n",
    "for row in result_list:\n",
    "    post_hour = row[0].hour # The first element is creation date\n",
    "    #print(post_hour)\n",
    "    if post_hour not in counts_by_hour:\n",
    "        counts_by_hour[post_hour] = 1\n",
    "        comments_by_hour[post_hour] = row[1] # Adding the second element, which is the no. of comments received\n",
    "    else:\n",
    "        counts_by_hour[post_hour] += 1\n",
    "        comments_by_hour[post_hour] += row[1] # Adding the second element, which is the no. of comments received\n",
    "        \n",
    "print(counts_by_hour, \"length : \", len(counts_by_hour))\n",
    "print(\"****************************\")\n",
    "print(comments_by_hour, \"length : \", len(comments_by_hour))"
   ]
  },
  {
   "cell_type": "code",
   "execution_count": 16,
   "metadata": {},
   "outputs": [
    {
     "name": "stdout",
     "output_type": "stream",
     "text": [
      "[[9, 5.5777777777777775], [13, 14.741176470588234], [10, 13.440677966101696], [14, 13.233644859813085], [16, 16.796296296296298], [23, 7.985294117647059], [12, 9.41095890410959], [17, 11.46], [15, 38.5948275862069], [21, 16.009174311926607], [20, 21.525], [2, 23.810344827586206], [18, 13.20183486238532], [3, 7.796296296296297], [5, 10.08695652173913], [19, 10.8], [1, 11.383333333333333], [22, 6.746478873239437], [8, 10.25], [4, 7.170212765957447], [0, 8.127272727272727], [6, 9.022727272727273], [7, 7.852941176470588], [11, 11.051724137931034]]\n"
     ]
    }
   ],
   "source": [
    "avg_by_hour = []\n",
    "for post_hour in counts_by_hour:\n",
    "    #print(row)\n",
    "    total_posts = counts_by_hour[post_hour]\n",
    "    total_comments = comments_by_hour[post_hour]\n",
    "    avg_comments_per_post = total_comments / total_posts \n",
    "    avg_by_hour.append([post_hour, avg_comments_per_post])\n",
    "    \n",
    "print(avg_by_hour)"
   ]
  },
  {
   "cell_type": "code",
   "execution_count": 17,
   "metadata": {},
   "outputs": [
    {
     "name": "stdout",
     "output_type": "stream",
     "text": [
      "[[5.5777777777777775, 9], [14.741176470588234, 13], [13.440677966101696, 10], [13.233644859813085, 14], [16.796296296296298, 16], [7.985294117647059, 23], [9.41095890410959, 12], [11.46, 17], [38.5948275862069, 15], [16.009174311926607, 21], [21.525, 20], [23.810344827586206, 2], [13.20183486238532, 18], [7.796296296296297, 3], [10.08695652173913, 5], [10.8, 19], [11.383333333333333, 1], [6.746478873239437, 22], [10.25, 8], [7.170212765957447, 4], [8.127272727272727, 0], [9.022727272727273, 6], [7.852941176470588, 7], [11.051724137931034, 11]]\n",
      "\n",
      "Top 10 Hours for 'Ask Posts' Comments:\n",
      "\n",
      "15:00: 38.59 average comments per post.\n",
      "02:00: 23.81 average comments per post.\n",
      "20:00: 21.52 average comments per post.\n",
      "16:00: 16.80 average comments per post.\n",
      "21:00: 16.01 average comments per post.\n",
      "13:00: 14.74 average comments per post.\n",
      "10:00: 13.44 average comments per post.\n",
      "14:00: 13.23 average comments per post.\n",
      "18:00: 13.20 average comments per post.\n",
      "17:00: 11.46 average comments per post.\n"
     ]
    }
   ],
   "source": [
    "# Creating a list `swap_avg_by_hour` by reversing the sequence \n",
    "# within each row of avg_by_hour,so that average no. of comments\n",
    "# per hour comes first and the hour of posting comes second. \n",
    "swap_avg_by_hour = [] \n",
    "for entry in avg_by_hour:\n",
    "    swap_avg_by_hour.append([entry[1], entry[0]])\n",
    "print(swap_avg_by_hour)\n",
    "\n",
    "# Sorting the list `swap_avg_by_hour' in descending order. Since,\n",
    "# the first column of the list is the avg. no. of columns, sorting\n",
    "# the list will sort by the average no. of columns.\n",
    "sorted_swap = sorted(swap_avg_by_hour, reverse = True)\n",
    "# Printing only the top 5 hours for posting with max. no. of comments.\n",
    "print(\"\\nTop 10 Hours for 'Ask Posts' Comments:\\n\")\n",
    "\n",
    "prnt_format = \"{0}: {1:.2f} average comments per post.\"\n",
    "for entry in sorted_swap[:10]:\n",
    "    post_hour = dt.datetime.strptime(str(entry[1]),\"%H\").strftime(\"%H:%M\") \n",
    "    print(prnt_format.format(post_hour, entry[0]))\n",
    "    "
   ]
  },
  {
   "cell_type": "markdown",
   "metadata": {},
   "source": [
    "_The most likely hour to make post to receive maximum number of comments is in the afternoon till evening from 3:00 P.M to 9:00 P.M. Eastern Time US._\n",
    "\n",
    "__The US Eastern time is nine and half hours behind India Standard Time. So, 5:30 A.M to 11:30 A.M is the best time in India to create posts.__ "
   ]
  }
 ],
 "metadata": {
  "kernelspec": {
   "display_name": "Python 3",
   "language": "python",
   "name": "python3"
  },
  "language_info": {
   "codemirror_mode": {
    "name": "ipython",
    "version": 3
   },
   "file_extension": ".py",
   "mimetype": "text/x-python",
   "name": "python",
   "nbconvert_exporter": "python",
   "pygments_lexer": "ipython3",
   "version": "3.8.2"
  }
 },
 "nbformat": 4,
 "nbformat_minor": 2
}
